{
 "cells": [
  {
   "cell_type": "code",
   "execution_count": 1,
   "metadata": {},
   "outputs": [],
   "source": [
    "from vortex.ai.agents import VortexSession, VortexAgent\n",
    "from vortex.ai.llm import LLM\n",
    "from vortex.datamodels import get_db_context"
   ]
  },
  {
   "cell_type": "code",
   "execution_count": 2,
   "metadata": {},
   "outputs": [
    {
     "name": "stdout",
     "output_type": "stream",
     "text": [
      "Using a new agent\n"
     ]
    }
   ],
   "source": [
    "agent = VortexAgent(llm=LLM(provider='ChatOpenAI').llm)\n",
    "vortex_session = VortexSession(session_factory=get_db_context())\n",
    "agent = vortex_session.get_or_create_agent(user_id='admin', provided_agent=agent)"
   ]
  },
  {
   "cell_type": "code",
   "execution_count": 3,
   "metadata": {},
   "outputs": [
    {
     "name": "stderr",
     "output_type": "stream",
     "text": [
      "\u001b[32m2024-03-04 23:38:17 INFO semantic_router.utils.logger local\u001b[0m\n"
     ]
    },
    {
     "name": "stdout",
     "output_type": "stream",
     "text": [
      "No route found for query: please search wikipedia for most recent articles about artificial intelligence\n",
      "The search on Wikipedia for \"Artificial Intelligence\" retrieved various relevant articles. Here are some summaries of the most recent articles related to artificial intelligence:\n",
      "\n",
      "1. **Artificial Intelligence**: Artificial intelligence (AI) refers to the intelligence exhibited by machines or software, as opposed to the intelligence of living beings, primarily humans. It is a field of study in computer science that develops and studies intelligent machines. AI technology is widely used across various industries for applications such as advanced web search engines, recommendation systems, human speech interaction, self-driving cars, generative and creative tools, and superhuman play in strategy games. The field of artificial intelligence has gone through cycles of optimism and disappointment, with significant advancements in recent years driven by deep learning and the transformer architecture. The growing use of AI is influencing societal and economic shifts towards increased automation and data-driven decision-making, raising ethical implications and the need for regulatory policies to ensure safety and benefits.\n",
      "\n",
      "2. **Generative Artificial Intelligence**: Generative artificial intelligence (generative AI or GAI) is AI capable of generating text, images, or other data using generative models in response to prompts. Recent advancements in transformer-based deep neural networks have led to a boom in generative AI systems. These systems include large language model chatbots, text-to-image artificial intelligence image generation systems, and text-to-video AI generators. Generative AI has applications across various industries such as software development, healthcare, finance, entertainment, customer service, art, writing, fashion, and more. However, concerns exist regarding the potential misuse of generative AI, such as cybercrime, fake news, and job displacement.\n",
      "\n",
      "3. **Artificial General Intelligence**: Artificial general intelligence (AGI) is a type of artificial intelligence that aims to exhibit human-like intelligence, including the ability to perform any task that a human can do. AGI is a long-term goal in the field of artificial intelligence, and researchers are working on developing systems capable of reasoning, knowledge representation, planning, learning, natural language processing, perception, and support for robotics. AGI research involves a wide range of problem-solving techniques, including search, mathematical optimization, neural networks, statistics, operations research, and more, drawing upon various fields such as psychology, linguistics, and neuroscience.\n",
      "\n",
      "These articles provide insights into the latest developments and applications of artificial intelligence across different domains.\n"
     ]
    }
   ],
   "source": [
    "response = agent.get_response('please search wikipedia for most recent articles about artificial intelligence')\n",
    "print(response)"
   ]
  }
 ],
 "metadata": {
  "kernelspec": {
   "display_name": "vortex",
   "language": "python",
   "name": "python3"
  },
  "language_info": {
   "codemirror_mode": {
    "name": "ipython",
    "version": 3
   },
   "file_extension": ".py",
   "mimetype": "text/x-python",
   "name": "python",
   "nbconvert_exporter": "python",
   "pygments_lexer": "ipython3",
   "version": "3.11.8"
  }
 },
 "nbformat": 4,
 "nbformat_minor": 2
}
